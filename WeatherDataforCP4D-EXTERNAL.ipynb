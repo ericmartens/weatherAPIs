{
    "cells": [
        {
            "metadata": {},
            "cell_type": "markdown",
            "source": "# Grabs IBM-The Weather Company Historical, Current , and Forecast Data for a zip code"
        },
        {
            "metadata": {},
            "cell_type": "markdown",
            "source": "## Import Required Libraries"
        },
        {
            "metadata": {},
            "cell_type": "code",
            "source": "import csv,time,datetime,urllib, pandas as pd",
            "execution_count": null,
            "outputs": []
        },
        {
            "metadata": {},
            "cell_type": "markdown",
            "source": "More infromation and API documentation can be found at these links:\n    \nHistorical Data API\nhttps://ibm.co/HDATr2 \n    \nForecast Data API\nhttps://ibm.co/FDATr2"
        },
        {
            "metadata": {},
            "cell_type": "markdown",
            "source": "## Enter Information Specific to API request"
        },
        {
            "metadata": {},
            "cell_type": "code",
            "source": "#User inputs--required, can be changed. US zip codes only for now\nAPIkey= 'YOUR API KEY' #NEED TO ENTER IBM-WEATHER COMPANY API KEY\nzipcode='80304' # Boulder, CO\nstartdate = '20200501' # May 1, 2020\nenddate = '20200531' # May 31, 2020",
            "execution_count": null,
            "outputs": []
        },
        {
            "metadata": {},
            "cell_type": "markdown",
            "source": "## Grab Historical data and read into Pandas dataframe"
        },
        {
            "metadata": {},
            "cell_type": "code",
            "source": "hist_url = 'https://api.weather.com/v3/wx/observations/historical/analytical/r2?postalKey='+zipcode+':US&productId=Temperature&startDate='+startdate+'&endDate='+enddate+'&language=en-US&units=s&format=csv&apiKey='+APIkey\nprint (hist_url)\n\n# Read into Pandas df\nhist_response = urllib.request.urlopen(hist_url)\nhist_df = pd.read_csv(hist_response)\n\nhist_df.shape\nhist_df.head()",
            "execution_count": null,
            "outputs": []
        },
        {
            "metadata": {},
            "cell_type": "markdown",
            "source": "## Grab Forecast data and read into Pandas dataframe"
        },
        {
            "metadata": {},
            "cell_type": "code",
            "source": "fcst_url = 'https://api.weather.com/v3/wx/forecast/analytical/r2?postalKey='+zipcode+':US&productId=Temperature&language=en-US&units=s&format=csv&apiKey='+APIkey\nprint (fcst_url)\n\n# Read into Pandas df\nfcst_response = urllib.request.urlopen(fcst_url)\nfcst_df = pd.read_csv(fcst_response)\nfcst_df.head()\n",
            "execution_count": null,
            "outputs": []
        },
        {
            "metadata": {},
            "cell_type": "markdown",
            "source": "## Plot data"
        },
        {
            "metadata": {},
            "cell_type": "code",
            "source": "hist_df.plot(x='date',y='TemperatureLocalAfternoonAvg')",
            "execution_count": null,
            "outputs": []
        },
        {
            "metadata": {},
            "cell_type": "code",
            "source": "fcst_df.plot(x='date',y='TemperatureLocalAfternoonAvg')",
            "execution_count": null,
            "outputs": []
        }
    ],
    "metadata": {
        "kernelspec": {
            "name": "python3",
            "display_name": "Python 3.6",
            "language": "python"
        },
        "language_info": {
            "name": "python",
            "version": "3.6.9",
            "mimetype": "text/x-python",
            "codemirror_mode": {
                "name": "ipython",
                "version": 3
            },
            "pygments_lexer": "ipython3",
            "nbconvert_exporter": "python",
            "file_extension": ".py"
        }
    },
    "nbformat": 4,
    "nbformat_minor": 1
}