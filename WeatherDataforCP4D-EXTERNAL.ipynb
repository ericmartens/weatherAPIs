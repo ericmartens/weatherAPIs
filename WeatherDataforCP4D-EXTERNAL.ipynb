{
 "cells": [
  {
   "cell_type": "markdown",
   "metadata": {},
   "source": [
    "# Historical, Current, and Forecast Data for a US ZIP code\n",
    "\n",
    "This notebook uses The Weather Company APIs to get forecast data for US ZIP codes, then plots that data. To use it, you will need a Weather Company API key, which can be obtained [here](https://www.ibm.com/products/weather-company-data-packages)."
   ]
  },
  {
   "cell_type": "markdown",
   "metadata": {},
   "source": [
    "## Enter information specific to API request\n",
    "\n",
    "Update the values below with your API key, the US ZIP code, and date range. The dates should be formatted as 'YYYYMMDD'. Only US ZIP codes are supported at this time."
   ]
  },
  {
   "cell_type": "code",
   "execution_count": 4,
   "metadata": {},
   "outputs": [],
   "source": [
    "API_KEY = 'YOUR_API_KEY'\n",
    "ZIP_CODE = '80304' # Boulder, CO\n",
    "START_DATE = '20200501' # May 1, 2020\n",
    "END_DATE = '20200531' # May 31, 2020"
   ]
  },
  {
   "cell_type": "markdown",
   "metadata": {},
   "source": [
    "## Import required libraries"
   ]
  },
  {
   "cell_type": "code",
   "execution_count": null,
   "metadata": {},
   "outputs": [],
   "source": [
    "import csv, time, datetime, urllib, pandas as pd"
   ]
  },
  {
   "cell_type": "markdown",
   "metadata": {},
   "source": [
    "## Get historical data and read into Pandas dataframe"
   ]
  },
  {
   "cell_type": "code",
   "execution_count": null,
   "metadata": {},
   "outputs": [],
   "source": [
    "hist_url = 'https://api.weather.com/v3/wx/observations/historical/analytical/r2?postalKey=' + \\\n",
    "    ZIP_CODE + ':US&productId=Temperature&startDate=' + START_DATE + '&endDate=' + END_DATE + \\\n",
    "    '&language=en-US&units=s&format=csv&apiKey=' + API_KEY\n",
    "\n",
    "print (hist_url)\n",
    "\n",
    "# Read into Pandas df\n",
    "hist_response = urllib.request.urlopen(hist_url)\n",
    "hist_df = pd.read_csv(hist_response)\n",
    "\n",
    "hist_df.shape\n",
    "hist_df.head()"
   ]
  },
  {
   "cell_type": "markdown",
   "metadata": {},
   "source": [
    "## Get forecast data and read into Pandas dataframe"
   ]
  },
  {
   "cell_type": "code",
   "execution_count": null,
   "metadata": {},
   "outputs": [],
   "source": [
    "fcst_url = 'https://api.weather.com/v3/wx/forecast/analytical/r2?postalKey=' + \\\n",
    "    ZIP_CODE + ':US&productId=Temperature&language=en-US&units=s&format=csv&apiKey=' + API_KEY\n",
    "\n",
    "print (fcst_url)\n",
    "\n",
    "# Read into Pandas df\n",
    "fcst_response = urllib.request.urlopen(fcst_url)\n",
    "fcst_df = pd.read_csv(fcst_response)\n",
    "fcst_df.head()"
   ]
  },
  {
   "cell_type": "markdown",
   "metadata": {},
   "source": [
    "## Plot data\n",
    "\n",
    "The following code plots the historcal and forecasted local afternoon average temperature for the provided ZIP code. It can be altered to plot other columns from the dataframe as well."
   ]
  },
  {
   "cell_type": "code",
   "execution_count": null,
   "metadata": {},
   "outputs": [],
   "source": [
    "hist_df.plot(x='date',y='TemperatureLocalAfternoonAvg')"
   ]
  },
  {
   "cell_type": "code",
   "execution_count": null,
   "metadata": {},
   "outputs": [],
   "source": [
    "fcst_df.plot(x='date',y='TemperatureLocalAfternoonAvg')"
   ]
  },
  {
   "cell_type": "markdown",
   "metadata": {},
   "source": [
    "## Want to learn more?\n",
    "\n",
    "More information and documentation can be found for both the [Historical Data API](https://ibm.co/HDATr2) and the [Forecast Data API](https://ibm.co/FDATr2)."
   ]
  },
  {
   "cell_type": "code",
   "execution_count": null,
   "metadata": {},
   "outputs": [],
   "source": []
  }
 ],
 "metadata": {
  "kernelspec": {
   "display_name": "Python 3",
   "language": "python",
   "name": "python3"
  },
  "language_info": {
   "codemirror_mode": {
    "name": "ipython",
    "version": 3
   },
   "file_extension": ".py",
   "mimetype": "text/x-python",
   "name": "python",
   "nbconvert_exporter": "python",
   "pygments_lexer": "ipython3",
   "version": "3.7.4"
  }
 },
 "nbformat": 4,
 "nbformat_minor": 1
}